{
 "cells": [
  {
   "cell_type": "markdown",
   "metadata": {
    "papermill": {
     "duration": 0.026189,
     "end_time": "2020-11-16T07:03:26.368676",
     "exception": false,
     "start_time": "2020-11-16T07:03:26.342487",
     "status": "completed"
    },
    "tags": []
   },
   "source": [
    "***PRICING***\n",
    "\n",
    "\n",
    "Bir oyun şirketi bir oyununda kullanıcılarına item satın alımları için hediye paralar vermiştir.\n",
    "Kullanıcılar bu sanal paraları kullanarak karakterlerine çeşitli araçlar satın almaktadır.\n",
    "Oyun şirketi bir item için fiyat belirtmemiş ve kullanıcılardan bu item'ı istedikleri fiyattan almalarını sağlamış.\n",
    "Örneğin kalkan isimli item için kullanıcılar kendi uygun gördükleri miktarları ödeyerek bu kalkanı satın alacaklar.\n",
    "Örneğin bir kullanıcı kendisine verilen sanal paralardan 30 birim, diğer kullanıcı 45 birim ile ödeme yapabilir.\n",
    "Dolayısıyla kullanıcılar kendilerine göre ödemeyi göze aldıkları miktarlar ile bu item'ı satın alabilirler.\n",
    "\n",
    "Çözülmesi gereken problemler:\n",
    "1. Item'in fiyatı kategorilere göre farklılık göstermekte midir? İstatistiki olarak ifade ediniz.\n",
    "2. İlk soruya bağlı olarak item'ın fiyatı ne olmalıdır? Nedenini açıklayınız?\n",
    "3. Fiyat konusunda \"hareket edebilir olmak\" istenmektedir. Fiyat stratejisi için karar destek sistemi oluşturunuz ve\n",
    "4. olası fiyat değişiklikleri için item satın almalarını ve gelirlerini simüle ediniz.\n",
    "\n",
    "\n"
   ]
  },
  {
   "cell_type": "code",
   "execution_count": 1,
   "metadata": {
    "execution": {
     "iopub.execute_input": "2020-11-16T07:03:26.426450Z",
     "iopub.status.busy": "2020-11-16T07:03:26.425658Z",
     "iopub.status.idle": "2020-11-16T07:03:27.452744Z",
     "shell.execute_reply": "2020-11-16T07:03:27.451824Z"
    },
    "papermill": {
     "duration": 1.059377,
     "end_time": "2020-11-16T07:03:27.452879",
     "exception": false,
     "start_time": "2020-11-16T07:03:26.393502",
     "status": "completed"
    },
    "tags": []
   },
   "outputs": [],
   "source": [
    "import pandas as pd\n",
    "from scipy.stats import shapiro\n",
    "import numpy as np\n",
    "import seaborn as sns\n",
    "import matplotlib.pyplot as plt\n",
    "from scipy.stats import shapiro\n",
    "import pandas as pd\n",
    "import itertools\n",
    "import statsmodels.stats.api as sms\n",
    "from scipy.stats import shapiro\n",
    "import scipy.stats as stats\n",
    "df = pd.read_csv(\"../input/pricingg/pricing kopyas 2.csv\" , sep = \";\")\n",
    "\n"
   ]
  },
  {
   "cell_type": "code",
   "execution_count": 2,
   "metadata": {
    "execution": {
     "iopub.execute_input": "2020-11-16T07:03:27.515433Z",
     "iopub.status.busy": "2020-11-16T07:03:27.514658Z",
     "iopub.status.idle": "2020-11-16T07:03:28.036487Z",
     "shell.execute_reply": "2020-11-16T07:03:28.037016Z"
    },
    "papermill": {
     "duration": 0.558699,
     "end_time": "2020-11-16T07:03:28.037195",
     "exception": false,
     "start_time": "2020-11-16T07:03:27.478496",
     "status": "completed"
    },
    "tags": []
   },
   "outputs": [
    {
     "data": {
      "text/plain": [
       "<matplotlib.axes._subplots.AxesSubplot at 0x7fd64b3fc990>"
      ]
     },
     "execution_count": 2,
     "metadata": {},
     "output_type": "execute_result"
    },
    {
     "data": {
      "image/png": "[encoded data removed]",
      "text/plain": [
       "<Figure size 432x288 with 1 Axes>"
      ]
     },
     "metadata": {
      "needs_background": "light"
     },
     "output_type": "display_data"
    }
   ],
   "source": [
    "#Gorsellestirme(Aykırı degerlerin gozlenmesi)\n",
    "\n",
    "sns.boxplot(x = \"category_id\" , y = \"price\" , data = df)\n",
    "sns.barplot(x = \"category_id\" , y = \"price\" , data = df)"
   ]
  },
  {
   "cell_type": "code",
   "execution_count": 3,
   "metadata": {
    "execution": {
     "iopub.execute_input": "2020-11-16T07:03:28.096772Z",
     "iopub.status.busy": "2020-11-16T07:03:28.095926Z",
     "iopub.status.idle": "2020-11-16T07:03:28.100766Z",
     "shell.execute_reply": "2020-11-16T07:03:28.100123Z"
    },
    "papermill": {
     "duration": 0.036601,
     "end_time": "2020-11-16T07:03:28.100882",
     "exception": false,
     "start_time": "2020-11-16T07:03:28.064281",
     "status": "completed"
    },
    "tags": []
   },
   "outputs": [
    {
     "data": {
      "text/plain": [
       "3448"
      ]
     },
     "execution_count": 3,
     "metadata": {},
     "output_type": "execute_result"
    }
   ],
   "source": [
    "#Toplam gozlem sayısı\n",
    "\n",
    "len(df)"
   ]
  },
  {
   "cell_type": "code",
   "execution_count": 4,
   "metadata": {
    "execution": {
     "iopub.execute_input": "2020-11-16T07:03:28.167967Z",
     "iopub.status.busy": "2020-11-16T07:03:28.166870Z",
     "iopub.status.idle": "2020-11-16T07:03:28.188333Z",
     "shell.execute_reply": "2020-11-16T07:03:28.188921Z"
    },
    "papermill": {
     "duration": 0.061,
     "end_time": "2020-11-16T07:03:28.189071",
     "exception": false,
     "start_time": "2020-11-16T07:03:28.128071",
     "status": "completed"
    },
    "tags": []
   },
   "outputs": [],
   "source": [
    "#Aykırı degerlerın alt ve ust degerlerinin tespiti.\n",
    "\n",
    "def outlier_thresholds(dataframe, variable):\n",
    "    quartile1 = dataframe[variable].quantile(0.05)\n",
    "    quartile3 = dataframe[variable].quantile(0.95)\n",
    "    interquantile_range = quartile3 - quartile1\n",
    "    up_limit = quartile3 + 1.5 * interquantile_range\n",
    "    low_limit = quartile1 - 1.5 * interquantile_range\n",
    "    return low_limit, up_limit\n",
    "\n",
    "\n",
    "\n",
    "def replace_with_thresholds(dataframe, variable):\n",
    "    low_limit, up_limit = outlier_thresholds(dataframe, variable)\n",
    "    dataframe.loc[(dataframe[variable] < low_limit), variable] = low_limit\n",
    "    dataframe.loc[(dataframe[variable] > up_limit), variable] = up_limit\n",
    "\n",
    "\n",
    "\n",
    "#Baskılama fonksiyonunun uygulanması\n",
    "replace_with_thresholds(df, \"price\")"
   ]
  },
  {
   "cell_type": "code",
   "execution_count": 5,
   "metadata": {
    "execution": {
     "iopub.execute_input": "2020-11-16T07:03:28.253006Z",
     "iopub.status.busy": "2020-11-16T07:03:28.252159Z",
     "iopub.status.idle": "2020-11-16T07:03:28.256290Z",
     "shell.execute_reply": "2020-11-16T07:03:28.255675Z"
    },
    "papermill": {
     "duration": 0.039611,
     "end_time": "2020-11-16T07:03:28.256409",
     "exception": false,
     "start_time": "2020-11-16T07:03:28.216798",
     "status": "completed"
    },
    "tags": []
   },
   "outputs": [
    {
     "data": {
      "text/plain": [
       "(42.74026448657552, 44.62467838760549)"
      ]
     },
     "execution_count": 5,
     "metadata": {},
     "output_type": "execute_result"
    }
   ],
   "source": [
    "#Guven aralıklarının hesaplanması\n",
    "\n",
    "sms.DescrStatsW(df.price).tconfint_mean()"
   ]
  },
  {
   "cell_type": "code",
   "execution_count": 6,
   "metadata": {
    "execution": {
     "iopub.execute_input": "2020-11-16T07:03:28.320264Z",
     "iopub.status.busy": "2020-11-16T07:03:28.319354Z",
     "iopub.status.idle": "2020-11-16T07:03:28.327044Z",
     "shell.execute_reply": "2020-11-16T07:03:28.326422Z"
    },
    "papermill": {
     "duration": 0.042867,
     "end_time": "2020-11-16T07:03:28.327192",
     "exception": false,
     "start_time": "2020-11-16T07:03:28.284325",
     "status": "completed"
    },
    "tags": []
   },
   "outputs": [
    {
     "data": {
      "text/html": [
       "<div>\n",
       "<style scoped>\n",
       "    .dataframe tbody tr th:only-of-type {\n",
       "        vertical-align: middle;\n",
       "    }\n",
       "\n",
       "    .dataframe tbody tr th {\n",
       "        vertical-align: top;\n",
       "    }\n",
       "\n",
       "    .dataframe thead th {\n",
       "        text-align: right;\n",
       "    }\n",
       "</style>\n",
       "<table border=\"1\" class=\"dataframe\">\n",
       "  <thead>\n",
       "    <tr style=\"text-align: right;\">\n",
       "      <th></th>\n",
       "      <th>category_id</th>\n",
       "      <th>price</th>\n",
       "    </tr>\n",
       "  </thead>\n",
       "  <tbody>\n",
       "    <tr>\n",
       "      <th>0</th>\n",
       "      <td>489756</td>\n",
       "      <td>32.117753</td>\n",
       "    </tr>\n",
       "    <tr>\n",
       "      <th>1</th>\n",
       "      <td>361254</td>\n",
       "      <td>30.711370</td>\n",
       "    </tr>\n",
       "  </tbody>\n",
       "</table>\n",
       "</div>"
      ],
      "text/plain": [
       "   category_id      price\n",
       "0       489756  32.117753\n",
       "1       361254  30.711370"
      ]
     },
     "execution_count": 6,
     "metadata": {},
     "output_type": "execute_result"
    }
   ],
   "source": [
    "#İlk iki gozlemin gosterilmesi.\n",
    "\n",
    "df.head(2)"
   ]
  },
  {
   "cell_type": "code",
   "execution_count": 7,
   "metadata": {
    "execution": {
     "iopub.execute_input": "2020-11-16T07:03:28.391763Z",
     "iopub.status.busy": "2020-11-16T07:03:28.389234Z",
     "iopub.status.idle": "2020-11-16T07:03:28.396400Z",
     "shell.execute_reply": "2020-11-16T07:03:28.395664Z"
    },
    "papermill": {
     "duration": 0.040212,
     "end_time": "2020-11-16T07:03:28.396520",
     "exception": false,
     "start_time": "2020-11-16T07:03:28.356308",
     "status": "completed"
    },
    "tags": []
   },
   "outputs": [
    {
     "data": {
      "text/plain": [
       "489756    1705\n",
       "874521     750\n",
       "361254     620\n",
       "326584     145\n",
       "675201     131\n",
       "201436      97\n",
       "Name: category_id, dtype: int64"
      ]
     },
     "execution_count": 7,
     "metadata": {},
     "output_type": "execute_result"
    }
   ],
   "source": [
    "#Kategoriler arasındaki deger farkı.\n",
    "\n",
    "df.category_id.value_counts()"
   ]
  },
  {
   "cell_type": "code",
   "execution_count": 8,
   "metadata": {
    "execution": {
     "iopub.execute_input": "2020-11-16T07:03:28.469214Z",
     "iopub.status.busy": "2020-11-16T07:03:28.465664Z",
     "iopub.status.idle": "2020-11-16T07:03:28.479305Z",
     "shell.execute_reply": "2020-11-16T07:03:28.478576Z"
    },
    "papermill": {
     "duration": 0.05354,
     "end_time": "2020-11-16T07:03:28.479425",
     "exception": false,
     "start_time": "2020-11-16T07:03:28.425885",
     "status": "completed"
    },
    "tags": []
   },
   "outputs": [],
   "source": [
    "#A/B testinin daha saglıklı sonuc vermesi  kategorilerin hepsini eşitledim.\n",
    "\n",
    "df_a = df.loc[df.category_id == 489756 , \"price\"][0:97].reset_index()\n",
    "df_b = df.loc[df.category_id == 874521 , \"price\"][0:97].reset_index()\n",
    "df_c = df.loc[df.category_id == 361254 , \"price\"][0:97].reset_index()\n",
    "df_d = df.loc[df.category_id == 326584 , \"price\"][0:97].reset_index()\n",
    "df_e = df.loc[df.category_id == 675201 , \"price\"][0:97].reset_index()\n",
    "df_f = df.loc[df.category_id == 201436 , \"price\"][0:97].reset_index()"
   ]
  },
  {
   "cell_type": "code",
   "execution_count": 9,
   "metadata": {
    "execution": {
     "iopub.execute_input": "2020-11-16T07:03:28.556524Z",
     "iopub.status.busy": "2020-11-16T07:03:28.555713Z",
     "iopub.status.idle": "2020-11-16T07:03:28.560114Z",
     "shell.execute_reply": "2020-11-16T07:03:28.559402Z"
    },
    "papermill": {
     "duration": 0.051291,
     "end_time": "2020-11-16T07:03:28.560257",
     "exception": false,
     "start_time": "2020-11-16T07:03:28.508966",
     "status": "completed"
    },
    "tags": []
   },
   "outputs": [
    {
     "data": {
      "text/html": [
       "<div>\n",
       "<style scoped>\n",
       "    .dataframe tbody tr th:only-of-type {\n",
       "        vertical-align: middle;\n",
       "    }\n",
       "\n",
       "    .dataframe tbody tr th {\n",
       "        vertical-align: top;\n",
       "    }\n",
       "\n",
       "    .dataframe thead th {\n",
       "        text-align: right;\n",
       "    }\n",
       "</style>\n",
       "<table border=\"1\" class=\"dataframe\">\n",
       "  <thead>\n",
       "    <tr style=\"text-align: right;\">\n",
       "      <th></th>\n",
       "      <th>489756</th>\n",
       "      <th>874521</th>\n",
       "      <th>361254</th>\n",
       "      <th>326584</th>\n",
       "      <th>675201</th>\n",
       "      <th>201436</th>\n",
       "    </tr>\n",
       "  </thead>\n",
       "  <tbody>\n",
       "    <tr>\n",
       "      <th>0</th>\n",
       "      <td>32.117753</td>\n",
       "      <td>66.323935</td>\n",
       "      <td>30.711370</td>\n",
       "      <td>30.000000</td>\n",
       "      <td>32.845208</td>\n",
       "      <td>30.000000</td>\n",
       "    </tr>\n",
       "    <tr>\n",
       "      <th>1</th>\n",
       "      <td>34.543840</td>\n",
       "      <td>34.597899</td>\n",
       "      <td>31.572607</td>\n",
       "      <td>31.904145</td>\n",
       "      <td>31.432038</td>\n",
       "      <td>32.653464</td>\n",
       "    </tr>\n",
       "  </tbody>\n",
       "</table>\n",
       "</div>"
      ],
      "text/plain": [
       "      489756     874521     361254     326584     675201     201436\n",
       "0  32.117753  66.323935  30.711370  30.000000  32.845208  30.000000\n",
       "1  34.543840  34.597899  31.572607  31.904145  31.432038  32.653464"
      ]
     },
     "execution_count": 9,
     "metadata": {},
     "output_type": "execute_result"
    }
   ],
   "source": [
    "#Kategorilerin sütun bazında birlestirilmesi.(A/B testine hazırlık.)\n",
    "\n",
    "dff = pd.concat([df_a, df_b, df_c , df_d , df_e , df_f] ,axis = 1)\n",
    "dff = dff.iloc[:,[1,3,5,7,9,11]]\n",
    "\n",
    "dff.columns = [\"489756\",\"874521\",\"361254\",\"326584\",\"675201\",\"201436\"]\n",
    "dff.head(2)"
   ]
  },
  {
   "cell_type": "markdown",
   "metadata": {
    "papermill": {
     "duration": 0.029621,
     "end_time": "2020-11-16T07:03:28.619973",
     "exception": false,
     "start_time": "2020-11-16T07:03:28.590352",
     "status": "completed"
    },
    "tags": []
   },
   "source": [
    "#KENDİME NOT\n",
    "\n",
    "\n",
    "\"bes\",\"alti\",\"yedi\",\"sekiz\"]\n",
    "import numpy as np\n",
    "df_2 = pd.cut(range(0,3448), 8,\n",
    "       labels=[\"bir\",\"iki\",\"uc\",\"dort\",\"bes\",\"alti\",\"yedi\",\"sekiz\"], ordered=False)\n",
    "df_2 = pd.DataFrame(df_2)\n",
    "df_2.columns = [\"category_1\"]\n",
    "type(df_2)"
   ]
  },
  {
   "cell_type": "code",
   "execution_count": 10,
   "metadata": {
    "execution": {
     "iopub.execute_input": "2020-11-16T07:03:28.687991Z",
     "iopub.status.busy": "2020-11-16T07:03:28.686936Z",
     "iopub.status.idle": "2020-11-16T07:03:28.691006Z",
     "shell.execute_reply": "2020-11-16T07:03:28.690296Z"
    },
    "papermill": {
     "duration": 0.040686,
     "end_time": "2020-11-16T07:03:28.691122",
     "exception": false,
     "start_time": "2020-11-16T07:03:28.650436",
     "status": "completed"
    },
    "tags": []
   },
   "outputs": [
    {
     "data": {
      "text/plain": [
       "489756    0\n",
       "874521    0\n",
       "361254    0\n",
       "326584    0\n",
       "675201    0\n",
       "201436    0\n",
       "dtype: int64"
      ]
     },
     "execution_count": 10,
     "metadata": {},
     "output_type": "execute_result"
    }
   ],
   "source": [
    "#Eksik degerlerin sorgulanması\n",
    "\n",
    "dff.isnull().sum()"
   ]
  },
  {
   "cell_type": "markdown",
   "metadata": {
    "papermill": {
     "duration": 0.030296,
     "end_time": "2020-11-16T07:03:28.751885",
     "exception": false,
     "start_time": "2020-11-16T07:03:28.721589",
     "status": "completed"
    },
    "tags": []
   },
   "source": [
    "# Bagımsız İki Orneklem T Testinin Yapılması (A/B TESTING)"
   ]
  },
  {
   "cell_type": "markdown",
   "metadata": {
    "papermill": {
     "duration": 0.030238,
     "end_time": "2020-11-16T07:03:28.812634",
     "exception": false,
     "start_time": "2020-11-16T07:03:28.782396",
     "status": "completed"
    },
    "tags": []
   },
   "source": [
    "A/B testinin yapılabilmesi icin iki varsayımın saglanması gerekmektedir.Bunlar:\n",
    "\n",
    "- 1.Normallik Varsayımı\n",
    "- 2.Varyans Homojenliği\n",
    "\n",
    "Gelin varsayımları saglayıp saglamadıgını kontrol etmek icin kategoriler arasında caprazlama yaparak bunu test edelim.\n",
    "\n",
    "Not :\n",
    "***Hipotezlerin pvalue degerine gore yorumlanması:***\n",
    "- Pvalue degeri 0.05'den buyukse H0 reddedilemez.\n",
    "- Pvalue degeri 0.05'den kucukse H0 reddedilir.\n",
    "\n"
   ]
  },
  {
   "cell_type": "markdown",
   "metadata": {
    "papermill": {
     "duration": 0.030815,
     "end_time": "2020-11-16T07:03:28.874101",
     "exception": false,
     "start_time": "2020-11-16T07:03:28.843286",
     "status": "completed"
    },
    "tags": []
   },
   "source": [
    "**1.Normallik Varsayımı**\n",
    "- H0 : Normal dağılım varsayımı sağlanmaktadır.\n",
    "- H1 : Normal dağılım varsayımı sağlanmamaktadır.\n",
    "\n",
    "\n"
   ]
  },
  {
   "cell_type": "markdown",
   "metadata": {
    "papermill": {
     "duration": 0.030331,
     "end_time": "2020-11-16T07:03:28.935311",
     "exception": false,
     "start_time": "2020-11-16T07:03:28.904980",
     "status": "completed"
    },
    "tags": []
   },
   "source": [
    "***Normallik varsayım sonuclarının degerlendirilmesi***\n",
    "- Tum caprazlamalarda pvalue degeri 0.05'den kucuk oldugu icin H0 reddedilir. Yani, normal dağılım varsayımı sağlanmamaktadır. Bundan dolayı nonparametrik testi (Mann-Whitney U test) yapacagız.\n"
   ]
  },
  {
   "cell_type": "code",
   "execution_count": 11,
   "metadata": {
    "execution": {
     "iopub.execute_input": "2020-11-16T07:03:29.009531Z",
     "iopub.status.busy": "2020-11-16T07:03:29.008410Z",
     "iopub.status.idle": "2020-11-16T07:03:29.022001Z",
     "shell.execute_reply": "2020-11-16T07:03:29.020914Z"
    },
    "papermill": {
     "duration": 0.056214,
     "end_time": "2020-11-16T07:03:29.022211",
     "exception": false,
     "start_time": "2020-11-16T07:03:28.965997",
     "status": "completed"
    },
    "tags": []
   },
   "outputs": [
    {
     "name": "stdout",
     "output_type": "stream",
     "text": [
      "489756 ve 874521\n",
      "Test İstatistiği = 0.5702, p-değeri = 0.0000\n",
      "Test İstatistiği = 0.4660, p-değeri = 0.0000\n",
      "489756 ve 361254\n",
      "Test İstatistiği = 0.5702, p-değeri = 0.0000\n",
      "Test İstatistiği = 0.3723, p-değeri = 0.0000\n",
      "489756 ve 326584\n",
      "Test İstatistiği = 0.5702, p-değeri = 0.0000\n",
      "Test İstatistiği = 0.3509, p-değeri = 0.0000\n",
      "489756 ve 675201\n",
      "Test İstatistiği = 0.5702, p-değeri = 0.0000\n",
      "Test İstatistiği = 0.4479, p-değeri = 0.0000\n",
      "489756 ve 201436\n",
      "Test İstatistiği = 0.5702, p-değeri = 0.0000\n",
      "Test İstatistiği = 0.6190, p-değeri = 0.0000\n",
      "874521 ve 361254\n",
      "Test İstatistiği = 0.4660, p-değeri = 0.0000\n",
      "Test İstatistiği = 0.3723, p-değeri = 0.0000\n",
      "874521 ve 326584\n",
      "Test İstatistiği = 0.4660, p-değeri = 0.0000\n",
      "Test İstatistiği = 0.3509, p-değeri = 0.0000\n",
      "874521 ve 675201\n",
      "Test İstatistiği = 0.4660, p-değeri = 0.0000\n",
      "Test İstatistiği = 0.4479, p-değeri = 0.0000\n",
      "874521 ve 201436\n",
      "Test İstatistiği = 0.4660, p-değeri = 0.0000\n",
      "Test İstatistiği = 0.6190, p-değeri = 0.0000\n",
      "361254 ve 326584\n",
      "Test İstatistiği = 0.3723, p-değeri = 0.0000\n",
      "Test İstatistiği = 0.3509, p-değeri = 0.0000\n",
      "361254 ve 675201\n",
      "Test İstatistiği = 0.3723, p-değeri = 0.0000\n",
      "Test İstatistiği = 0.4479, p-değeri = 0.0000\n",
      "361254 ve 201436\n",
      "Test İstatistiği = 0.3723, p-değeri = 0.0000\n",
      "Test İstatistiği = 0.6190, p-değeri = 0.0000\n",
      "326584 ve 675201\n",
      "Test İstatistiği = 0.3509, p-değeri = 0.0000\n",
      "Test İstatistiği = 0.4479, p-değeri = 0.0000\n",
      "326584 ve 201436\n",
      "Test İstatistiği = 0.3509, p-değeri = 0.0000\n",
      "Test İstatistiği = 0.6190, p-değeri = 0.0000\n",
      "675201 ve 201436\n",
      "Test İstatistiği = 0.4479, p-değeri = 0.0000\n",
      "Test İstatistiği = 0.6190, p-değeri = 0.0000\n"
     ]
    }
   ],
   "source": [
    "#Normallik varsayımı. Tum caprazlamalarda pvalue degeri 0.05'den kucuk oldugu icin H0 reddedilir. Yani, normal dağılım varsayımı sağlanmamaktadır.\n",
    "\n",
    "items = [\"489756\",\"874521\",\"361254\",\"326584\",\"675201\",\"201436\"]\n",
    "a = [(items[i],items[j]) for i in range(len(items)) for j in range(i+1, len(items))]\n",
    "\n",
    "for i in range(0,15):\n",
    "    print(a[i][0] , \"ve\" , a[i][1])\n",
    "    df_a = dff[a[i][0]]\n",
    "    #df_a = df_a.reset_index()\n",
    "    df_a.columns = [\"A\"]\n",
    "    df_b = dff[a[i][1]]\n",
    "    #df_b = df_b.reset_index()\n",
    "    df_b.columns = [\"B\"]\n",
    "    print('Test İstatistiği = %.4f, p-değeri = %.4f' % shapiro(df_a))\n",
    "    print('Test İstatistiği = %.4f, p-değeri = %.4f' % shapiro(df_b))"
   ]
  },
  {
   "cell_type": "markdown",
   "metadata": {
    "papermill": {
     "duration": 0.031011,
     "end_time": "2020-11-16T07:03:29.088364",
     "exception": false,
     "start_time": "2020-11-16T07:03:29.057353",
     "status": "completed"
    },
    "tags": []
   },
   "source": [
    "**2.Varyans Homojenligi Varsayımı**\n",
    "\n",
    "\n",
    "***Varyans homojenligi varsayımında kurulan hıpotez:***\n",
    "- H0: Varyanslar Homojendir.\n",
    "- H1: Varyanslar Homojen Değildir.\n",
    "\n",
    "***Varyans homojenliginin degerlendirilmesi:***\n",
    "Gruplar arasında yapılan caprazlamalar sonucunda tum pvalue degerleri 0.05'den buyuk oldugu ıcın H0 reddedilemez. Yani Varyanslar homojendir. İstisna olarak caprazlamada 489756 ve 201436 gruplanının varyans homojenligi saglamadıgı tespit edilmistir."
   ]
  },
  {
   "cell_type": "code",
   "execution_count": 12,
   "metadata": {
    "execution": {
     "iopub.execute_input": "2020-11-16T07:03:29.171477Z",
     "iopub.status.busy": "2020-11-16T07:03:29.170629Z",
     "iopub.status.idle": "2020-11-16T07:03:29.210534Z",
     "shell.execute_reply": "2020-11-16T07:03:29.209629Z"
    },
    "papermill": {
     "duration": 0.090956,
     "end_time": "2020-11-16T07:03:29.210713",
     "exception": false,
     "start_time": "2020-11-16T07:03:29.119757",
     "status": "completed"
    },
    "tags": []
   },
   "outputs": [
    {
     "name": "stdout",
     "output_type": "stream",
     "text": [
      "489756 ve 874521\n",
      "Test İstatistiği = 0.6148, p-değeri = 0.4339\n",
      "489756 ve 874521  pvalue degeri 0.05'den buyuk oldugu icin h0 reddedilemez. Yani varyanslar homojen dagılmaktadır.\n",
      "489756 ve 361254\n",
      "Test İstatistiği = 0.4225, p-değeri = 0.5165\n",
      "489756 ve 361254  pvalue degeri 0.05'den buyuk oldugu icin h0 reddedilemez. Yani varyanslar homojen dagılmaktadır.\n",
      "489756 ve 326584\n",
      "Test İstatistiği = 2.5120, p-değeri = 0.1146\n",
      "489756 ve 326584  pvalue degeri 0.05'den buyuk oldugu icin h0 reddedilemez. Yani varyanslar homojen dagılmaktadır.\n",
      "489756 ve 675201\n",
      "Test İstatistiği = 1.1076, p-değeri = 0.2939\n",
      "489756 ve 675201  pvalue degeri 0.05'den buyuk oldugu icin h0 reddedilemez. Yani varyanslar homojen dagılmaktadır.\n",
      "489756 ve 201436\n",
      "Test İstatistiği = 7.1457, p-değeri = 0.0082\n",
      "489756 ve 201436  pvalue degeri 0.05'den kucuk oldugu icin h0 reddedilir. Yani varyanslar homojen dagılmamaktadır.\n",
      "874521 ve 361254\n",
      "Test İstatistiği = 0.0018, p-değeri = 0.9662\n",
      "874521 ve 361254  pvalue degeri 0.05'den buyuk oldugu icin h0 reddedilemez. Yani varyanslar homojen dagılmaktadır.\n",
      "874521 ve 326584\n",
      "Test İstatistiği = 0.6283, p-değeri = 0.4289\n",
      "874521 ve 326584  pvalue degeri 0.05'den buyuk oldugu icin h0 reddedilemez. Yani varyanslar homojen dagılmaktadır.\n",
      "874521 ve 675201\n",
      "Test İstatistiği = 0.0657, p-değeri = 0.7980\n",
      "874521 ve 675201  pvalue degeri 0.05'den buyuk oldugu icin h0 reddedilemez. Yani varyanslar homojen dagılmaktadır.\n",
      "874521 ve 201436\n",
      "Test İstatistiği = 3.0516, p-değeri = 0.0823\n",
      "874521 ve 201436  pvalue degeri 0.05'den buyuk oldugu icin h0 reddedilemez. Yani varyanslar homojen dagılmaktadır.\n",
      "361254 ve 326584\n",
      "Test İstatistiği = 0.5352, p-değeri = 0.4653\n",
      "361254 ve 326584  pvalue degeri 0.05'den buyuk oldugu icin h0 reddedilemez. Yani varyanslar homojen dagılmaktadır.\n",
      "361254 ve 675201\n",
      "Test İstatistiği = 0.0711, p-değeri = 0.7901\n",
      "361254 ve 675201  pvalue degeri 0.05'den buyuk oldugu icin h0 reddedilemez. Yani varyanslar homojen dagılmaktadır.\n",
      "361254 ve 201436\n",
      "Test İstatistiği = 2.1600, p-değeri = 0.1433\n",
      "361254 ve 201436  pvalue degeri 0.05'den buyuk oldugu icin h0 reddedilemez. Yani varyanslar homojen dagılmaktadır.\n",
      "326584 ve 675201\n",
      "Test İstatistiği = 0.2996, p-değeri = 0.5848\n",
      "326584 ve 675201  pvalue degeri 0.05'den buyuk oldugu icin h0 reddedilemez. Yani varyanslar homojen dagılmaktadır.\n",
      "326584 ve 201436\n",
      "Test İstatistiği = 0.6579, p-değeri = 0.4183\n",
      "326584 ve 201436  pvalue degeri 0.05'den buyuk oldugu icin h0 reddedilemez. Yani varyanslar homojen dagılmaktadır.\n",
      "675201 ve 201436\n",
      "Test İstatistiği = 2.2076, p-değeri = 0.1390\n",
      "675201 ve 201436  pvalue degeri 0.05'den buyuk oldugu icin h0 reddedilemez. Yani varyanslar homojen dagılmaktadır.\n"
     ]
    }
   ],
   "source": [
    "#Varyans homojenligi(tum varyanslar homojen dagılmaktadır.)\n",
    "\n",
    "\n",
    "items = [\"489756\",\"874521\",\"361254\",\"326584\",\"675201\",\"201436\"]\n",
    "a = [(items[i],items[j]) for i in range(len(items)) for j in range(i+1, len(items))]\n",
    "\n",
    "for i in range(0,15):\n",
    "    print(a[i][0] , \"ve\" , a[i][1] )\n",
    "    print('Test İstatistiği = %.4f, p-değeri = %.4f' % stats.levene(dff[a[i][0]], dff[a[i][1]]))\n",
    "    \n",
    "    p = stats.levene(dff[a[i][0]], dff[a[i][1]])\n",
    "    if p[1] < 0.05:\n",
    "        print(a[i][0] , \"ve\" , a[i][1] , \" pvalue degeri 0.05'den kucuk oldugu icin h0 reddedilir. Yani varyanslar homojen dagılmamaktadır.\")\n",
    "    else:\n",
    "        print(a[i][0] , \"ve\" , a[i][1] , \" pvalue degeri 0.05'den buyuk oldugu icin h0 reddedilemez. Yani varyanslar homojen dagılmaktadır.\")"
   ]
  },
  {
   "cell_type": "markdown",
   "metadata": {
    "papermill": {
     "duration": 0.031793,
     "end_time": "2020-11-16T07:03:29.275246",
     "exception": false,
     "start_time": "2020-11-16T07:03:29.243453",
     "status": "completed"
    },
    "tags": []
   },
   "source": [
    "# A/B Testi"
   ]
  },
  {
   "cell_type": "markdown",
   "metadata": {
    "papermill": {
     "duration": 0.031926,
     "end_time": "2020-11-16T07:03:29.339041",
     "exception": false,
     "start_time": "2020-11-16T07:03:29.307115",
     "status": "completed"
    },
    "tags": []
   },
   "source": [
    "A/B testinin hipotezleri\n",
    "- H0 : İki grubun satın alma miktar ortalamalarının arasında istatistiksel olarak anlamlı bir fark yoktur.\n",
    "- H1 : İki grubun satın alma miktar ortalamalarının arasında istatistiksel olarak anlamlı bir fark vardır.\n",
    "\n",
    "***İstatistiksel olarak anlamlı fark bulunan ikili gruplar:***\n",
    "- 489756 ve 874521\n",
    "- 489756 ve 361254\n",
    "- 489756 ve 326584\n",
    "- 489756 ve 675201 \n",
    "- 489756 ve 201436\n",
    "- 874521 ve 326584\n",
    "- 361254 ve 326584\n",
    "- 326584 ve 675201\n",
    "- 326584 ve 201436\n",
    "\n",
    "Yukarıdakı capraz kategorilerin pvalue degerleri 0.05'den kucuk oldugu icin H0 reddedilir. Yani, iki grubun satın alma miktar ortalamalarının arasında istatistiksel olarak anlamlı bir fark vardır."
   ]
  },
  {
   "cell_type": "code",
   "execution_count": 13,
   "metadata": {
    "execution": {
     "iopub.execute_input": "2020-11-16T07:03:29.419966Z",
     "iopub.status.busy": "2020-11-16T07:03:29.419201Z",
     "iopub.status.idle": "2020-11-16T07:03:29.453236Z",
     "shell.execute_reply": "2020-11-16T07:03:29.452488Z"
    },
    "papermill": {
     "duration": 0.077382,
     "end_time": "2020-11-16T07:03:29.453366",
     "exception": false,
     "start_time": "2020-11-16T07:03:29.375984",
     "status": "completed"
    },
    "tags": []
   },
   "outputs": [
    {
     "name": "stdout",
     "output_type": "stream",
     "text": [
      "489756 ve 874521\n",
      "----------------------------------------------------------------------------------------------------\n",
      "489756 ve 874521 pvalue degeri 0.05'den kucuk oldugu ıcın H0 reddedilir.\n",
      "----------------------------------------------------------------------------------------------------\n",
      "489756 ve 361254\n",
      "----------------------------------------------------------------------------------------------------\n",
      "489756 ve 361254 pvalue degeri 0.05'den kucuk oldugu ıcın H0 reddedilir.\n",
      "----------------------------------------------------------------------------------------------------\n",
      "489756 ve 326584\n",
      "----------------------------------------------------------------------------------------------------\n",
      "489756 ve 326584 pvalue degeri 0.05'den kucuk oldugu ıcın H0 reddedilir.\n",
      "----------------------------------------------------------------------------------------------------\n",
      "489756 ve 675201\n",
      "----------------------------------------------------------------------------------------------------\n",
      "489756 ve 675201 pvalue degeri 0.05'den kucuk oldugu ıcın H0 reddedilir.\n",
      "----------------------------------------------------------------------------------------------------\n",
      "489756 ve 201436\n",
      "----------------------------------------------------------------------------------------------------\n",
      "489756 ve 201436 pvalue degeri 0.05'den kucuk oldugu ıcın H0 reddedilir.\n",
      "----------------------------------------------------------------------------------------------------\n",
      "874521 ve 361254\n",
      "pvalue degeri 0.05'den buyuk oldugu icin H0 reddedilemez. \n",
      "874521 ve 326584\n",
      "----------------------------------------------------------------------------------------------------\n",
      "874521 ve 326584 pvalue degeri 0.05'den kucuk oldugu ıcın H0 reddedilir.\n",
      "----------------------------------------------------------------------------------------------------\n",
      "874521 ve 675201\n",
      "pvalue degeri 0.05'den buyuk oldugu icin H0 reddedilemez. \n",
      "874521 ve 201436\n",
      "pvalue degeri 0.05'den buyuk oldugu icin H0 reddedilemez. \n",
      "361254 ve 326584\n",
      "----------------------------------------------------------------------------------------------------\n",
      "361254 ve 326584 pvalue degeri 0.05'den kucuk oldugu ıcın H0 reddedilir.\n",
      "----------------------------------------------------------------------------------------------------\n",
      "361254 ve 675201\n",
      "pvalue degeri 0.05'den buyuk oldugu icin H0 reddedilemez. \n",
      "361254 ve 201436\n",
      "pvalue degeri 0.05'den buyuk oldugu icin H0 reddedilemez. \n",
      "326584 ve 675201\n",
      "----------------------------------------------------------------------------------------------------\n",
      "326584 ve 675201 pvalue degeri 0.05'den kucuk oldugu ıcın H0 reddedilir.\n",
      "----------------------------------------------------------------------------------------------------\n",
      "326584 ve 201436\n",
      "----------------------------------------------------------------------------------------------------\n",
      "326584 ve 201436 pvalue degeri 0.05'den kucuk oldugu ıcın H0 reddedilir.\n",
      "----------------------------------------------------------------------------------------------------\n",
      "675201 ve 201436\n",
      "pvalue degeri 0.05'den buyuk oldugu icin H0 reddedilemez. \n"
     ]
    }
   ],
   "source": [
    "#Tum caprazlamalarda normallik saglanmadıgı icin nonparametrik testi (Mann-Whitney U test)  yapacagız. \n",
    "\n",
    "\n",
    "items = [\"489756\",\"874521\",\"361254\",\"326584\",\"675201\",\"201436\"]\n",
    "a = [(items[i],items[j]) for i in range(len(items)) for j in range(i+1, len(items))]\n",
    "\n",
    "\n",
    "for i in range(0,15):\n",
    "    print(a[i][0] , \"ve\" , a[i][1] )\n",
    "    p = stats.stats.mannwhitneyu(dff[a[i][0]] , dff[a[i][1]])\n",
    "    \n",
    "    if p[1] < 0.05:\n",
    "        print(\"-\"*100)\n",
    "        print(a[i][0] , \"ve\" , a[i][1] , \"pvalue degeri 0.05'den kucuk oldugu ıcın H0 reddedilir.\")\n",
    "        \n",
    "        \n",
    "        print(\"-\"*100)\n",
    "    else:\n",
    "        print(\"pvalue degeri 0.05'den buyuk oldugu icin H0 reddedilemez. \")\n",
    "        \n",
    " "
   ]
  },
  {
   "cell_type": "markdown",
   "metadata": {
    "papermill": {
     "duration": 0.032376,
     "end_time": "2020-11-16T07:03:29.518709",
     "exception": false,
     "start_time": "2020-11-16T07:03:29.486333",
     "status": "completed"
    },
    "tags": []
   },
   "source": [
    "## Item'in fiyatı kategorilere göre farklılık göstermekte midir? İstatistiki olarak ifade ediniz.\n",
    "- Kategoriler arasında item'e verilen deger degismektedir.Kategorileri kendi aralarında caprazlayıp bagımsız ıkı orneklem T testine soktugumuzda ; asağıdakı ikili grupların pvalue degeri 0.05' den kucuk oldugu icin H0 hipotezi reddedilir. Yani grupların(asagıdaki iki cift) ortalamasını karsılastırdıgımızda sans eseri olamayacak sekilde birbirinden farklı oldugu gozukmektedir.\n"
   ]
  },
  {
   "cell_type": "markdown",
   "metadata": {
    "papermill": {
     "duration": 0.032244,
     "end_time": "2020-11-16T07:03:29.583530",
     "exception": false,
     "start_time": "2020-11-16T07:03:29.551286",
     "status": "completed"
    },
    "tags": []
   },
   "source": [
    "- 489756 ve 874521\n",
    "- 489756 ve 361254\n",
    "- 489756 ve 326584\n",
    "- 489756 ve 675201 \n",
    "- 489756 ve 201436\n",
    "- 874521 ve 326584\n",
    "- 361254 ve 326584\n",
    "- 326584 ve 675201\n",
    "- 326584 ve 201436\n",
    "\n",
    "\n",
    "Yukarıdakı ikili grupların ortalamalarında bir farklılık oldugu AB testi sonucunda gozukmektedir. "
   ]
  },
  {
   "cell_type": "markdown",
   "metadata": {
    "papermill": {
     "duration": 0.032652,
     "end_time": "2020-11-16T07:03:29.648520",
     "exception": false,
     "start_time": "2020-11-16T07:03:29.615868",
     "status": "completed"
    },
    "tags": []
   },
   "source": [
    "# İlk soruya bağlı olarak item'ın fiyatı ne olmalıdır? Nedenini açıklayınız?\n",
    "- Aşagıda goruldugu gibi tum kategorilerin tutar ortalaması 36 oldugu icin bu secilebilir.  Cunku yaptıgımız caprazlamalarda sadece iki cifti ortalamalarında istatistiki farklılık vardı. Yani bu grupların ortalamasını alsak da tum grupları temsil etmeyecektir. Bundan dolayı tum tutarların ortalamasını aldım. Lakin bunun da sans eseri olabilecek olayları öngermeme yardım etmediginden dolayı guven aralıklarına bakmaya karar verdim.\n"
   ]
  },
  {
   "cell_type": "code",
   "execution_count": 14,
   "metadata": {
    "execution": {
     "iopub.execute_input": "2020-11-16T07:03:29.720187Z",
     "iopub.status.busy": "2020-11-16T07:03:29.719112Z",
     "iopub.status.idle": "2020-11-16T07:03:29.723203Z",
     "shell.execute_reply": "2020-11-16T07:03:29.722487Z"
    },
    "papermill": {
     "duration": 0.042223,
     "end_time": "2020-11-16T07:03:29.723320",
     "exception": false,
     "start_time": "2020-11-16T07:03:29.681097",
     "status": "completed"
    },
    "tags": []
   },
   "outputs": [
    {
     "data": {
      "text/plain": [
       "39.10015049509575"
      ]
     },
     "execution_count": 14,
     "metadata": {},
     "output_type": "execute_result"
    }
   ],
   "source": [
    "#Ortalamaların alınması.\n",
    "\n",
    "dff.mean().mean()"
   ]
  },
  {
   "cell_type": "code",
   "execution_count": 15,
   "metadata": {
    "execution": {
     "iopub.execute_input": "2020-11-16T07:03:29.801072Z",
     "iopub.status.busy": "2020-11-16T07:03:29.798729Z",
     "iopub.status.idle": "2020-11-16T07:03:29.826109Z",
     "shell.execute_reply": "2020-11-16T07:03:29.825407Z"
    },
    "papermill": {
     "duration": 0.069782,
     "end_time": "2020-11-16T07:03:29.826251",
     "exception": false,
     "start_time": "2020-11-16T07:03:29.756469",
     "status": "completed"
    },
    "tags": []
   },
   "outputs": [
    {
     "data": {
      "text/html": [
       "<div>\n",
       "<style scoped>\n",
       "    .dataframe tbody tr th:only-of-type {\n",
       "        vertical-align: middle;\n",
       "    }\n",
       "\n",
       "    .dataframe tbody tr th {\n",
       "        vertical-align: top;\n",
       "    }\n",
       "\n",
       "    .dataframe thead th {\n",
       "        text-align: right;\n",
       "    }\n",
       "</style>\n",
       "<table border=\"1\" class=\"dataframe\">\n",
       "  <thead>\n",
       "    <tr style=\"text-align: right;\">\n",
       "      <th></th>\n",
       "      <th>count</th>\n",
       "      <th>mean</th>\n",
       "      <th>std</th>\n",
       "      <th>min</th>\n",
       "      <th>25%</th>\n",
       "      <th>50%</th>\n",
       "      <th>75%</th>\n",
       "      <th>max</th>\n",
       "    </tr>\n",
       "  </thead>\n",
       "  <tbody>\n",
       "    <tr>\n",
       "      <th>489756</th>\n",
       "      <td>97.0</td>\n",
       "      <td>42.937450</td>\n",
       "      <td>21.845845</td>\n",
       "      <td>30.0</td>\n",
       "      <td>32.117753</td>\n",
       "      <td>34.891946</td>\n",
       "      <td>44.604229</td>\n",
       "      <td>187.445544</td>\n",
       "    </tr>\n",
       "    <tr>\n",
       "      <th>874521</th>\n",
       "      <td>97.0</td>\n",
       "      <td>39.648290</td>\n",
       "      <td>20.502815</td>\n",
       "      <td>30.0</td>\n",
       "      <td>30.915493</td>\n",
       "      <td>33.828879</td>\n",
       "      <td>35.892906</td>\n",
       "      <td>187.445544</td>\n",
       "    </tr>\n",
       "    <tr>\n",
       "      <th>361254</th>\n",
       "      <td>97.0</td>\n",
       "      <td>40.117515</td>\n",
       "      <td>25.501210</td>\n",
       "      <td>30.0</td>\n",
       "      <td>30.999253</td>\n",
       "      <td>34.003999</td>\n",
       "      <td>35.170468</td>\n",
       "      <td>187.445544</td>\n",
       "    </tr>\n",
       "    <tr>\n",
       "      <th>326584</th>\n",
       "      <td>97.0</td>\n",
       "      <td>36.401966</td>\n",
       "      <td>18.345479</td>\n",
       "      <td>30.0</td>\n",
       "      <td>30.000000</td>\n",
       "      <td>31.525926</td>\n",
       "      <td>35.000000</td>\n",
       "      <td>187.445544</td>\n",
       "    </tr>\n",
       "    <tr>\n",
       "      <th>675201</th>\n",
       "      <td>97.0</td>\n",
       "      <td>39.320184</td>\n",
       "      <td>19.393426</td>\n",
       "      <td>30.0</td>\n",
       "      <td>31.382515</td>\n",
       "      <td>34.026924</td>\n",
       "      <td>36.684999</td>\n",
       "      <td>187.445544</td>\n",
       "    </tr>\n",
       "    <tr>\n",
       "      <th>201436</th>\n",
       "      <td>97.0</td>\n",
       "      <td>36.175498</td>\n",
       "      <td>8.900154</td>\n",
       "      <td>30.0</td>\n",
       "      <td>31.487818</td>\n",
       "      <td>33.534678</td>\n",
       "      <td>35.919947</td>\n",
       "      <td>74.452929</td>\n",
       "    </tr>\n",
       "  </tbody>\n",
       "</table>\n",
       "</div>"
      ],
      "text/plain": [
       "        count       mean        std   min        25%        50%        75%  \\\n",
       "489756   97.0  42.937450  21.845845  30.0  32.117753  34.891946  44.604229   \n",
       "874521   97.0  39.648290  20.502815  30.0  30.915493  33.828879  35.892906   \n",
       "361254   97.0  40.117515  25.501210  30.0  30.999253  34.003999  35.170468   \n",
       "326584   97.0  36.401966  18.345479  30.0  30.000000  31.525926  35.000000   \n",
       "675201   97.0  39.320184  19.393426  30.0  31.382515  34.026924  36.684999   \n",
       "201436   97.0  36.175498   8.900154  30.0  31.487818  33.534678  35.919947   \n",
       "\n",
       "               max  \n",
       "489756  187.445544  \n",
       "874521  187.445544  \n",
       "361254  187.445544  \n",
       "326584  187.445544  \n",
       "675201  187.445544  \n",
       "201436   74.452929  "
      ]
     },
     "execution_count": 15,
     "metadata": {},
     "output_type": "execute_result"
    }
   ],
   "source": [
    "#Betimleyici istatistiklerine bakılması.\n",
    "\n",
    "dff.describe().T"
   ]
  },
  {
   "cell_type": "markdown",
   "metadata": {
    "papermill": {
     "duration": 0.03361,
     "end_time": "2020-11-16T07:03:29.893940",
     "exception": false,
     "start_time": "2020-11-16T07:03:29.860330",
     "status": "completed"
    },
    "tags": []
   },
   "source": [
    "# Fiyat konusunda \"hareket edebilir olmak\" istenmektedir. Fiyat stratejisi için karar destek sistemi oluşturunuz ve olası fiyat değişiklikleri için item satın almalarını ve gelirlerini simüle ediniz."
   ]
  },
  {
   "cell_type": "code",
   "execution_count": 16,
   "metadata": {
    "execution": {
     "iopub.execute_input": "2020-11-16T07:03:29.967491Z",
     "iopub.status.busy": "2020-11-16T07:03:29.966463Z",
     "iopub.status.idle": "2020-11-16T07:03:29.971164Z",
     "shell.execute_reply": "2020-11-16T07:03:29.971683Z"
    },
    "papermill": {
     "duration": 0.044169,
     "end_time": "2020-11-16T07:03:29.971839",
     "exception": false,
     "start_time": "2020-11-16T07:03:29.927670",
     "status": "completed"
    },
    "tags": []
   },
   "outputs": [
    {
     "data": {
      "text/plain": [
       "(42.74026448657552, 44.62467838760549)"
      ]
     },
     "execution_count": 16,
     "metadata": {},
     "output_type": "execute_result"
    }
   ],
   "source": [
    "#Hareket edilebilir aralık olusturulması.\n",
    "\n",
    "sms.DescrStatsW(df.price).tconfint_mean()"
   ]
  },
  {
   "cell_type": "markdown",
   "metadata": {
    "papermill": {
     "duration": 0.034321,
     "end_time": "2020-11-16T07:03:30.040731",
     "exception": false,
     "start_time": "2020-11-16T07:03:30.006410",
     "status": "completed"
    },
    "tags": []
   },
   "source": [
    "Guven aralıklarının bulunması\n",
    "(42.74026448657552, 44.62467838760549)\n",
    "\n",
    "\n"
   ]
  },
  {
   "cell_type": "markdown",
   "metadata": {
    "papermill": {
     "duration": 0.034267,
     "end_time": "2020-11-16T07:03:30.109703",
     "exception": false,
     "start_time": "2020-11-16T07:03:30.075436",
     "status": "completed"
    },
    "tags": []
   },
   "source": [
    "# Gelir Simulasyonu"
   ]
  },
  {
   "cell_type": "markdown",
   "metadata": {
    "papermill": {
     "duration": 0.034518,
     "end_time": "2020-11-16T07:03:30.178977",
     "exception": false,
     "start_time": "2020-11-16T07:03:30.144459",
     "status": "completed"
    },
    "tags": []
   },
   "source": [
    "Guven aralıklarını hesaba katarsak 3 cesit fiyat stratejisi yapmamız gerekmektedir.Bu stratejiler sonucunda elde edecegimiz gelirin hesaplanmasını yapmaya baslayabiliriz."
   ]
  },
  {
   "cell_type": "code",
   "execution_count": 17,
   "metadata": {
    "execution": {
     "iopub.execute_input": "2020-11-16T07:03:30.257407Z",
     "iopub.status.busy": "2020-11-16T07:03:30.256380Z",
     "iopub.status.idle": "2020-11-16T07:03:30.260451Z",
     "shell.execute_reply": "2020-11-16T07:03:30.259723Z"
    },
    "papermill": {
     "duration": 0.04635,
     "end_time": "2020-11-16T07:03:30.260571",
     "exception": false,
     "start_time": "2020-11-16T07:03:30.214221",
     "status": "completed"
    },
    "tags": []
   },
   "outputs": [
    {
     "data": {
      "text/plain": [
       "109746"
      ]
     },
     "execution_count": 17,
     "metadata": {},
     "output_type": "execute_result"
    }
   ],
   "source": [
    "#1. adım : 42 birim altında satın almak isteyenlerden , elde edilecek gelirin hesaplanması\n",
    "\n",
    "frekans = len(df.loc[df.price < 42])\n",
    "gelir = frekans * 42\n",
    "gelir\n"
   ]
  },
  {
   "cell_type": "markdown",
   "metadata": {
    "papermill": {
     "duration": 0.035988,
     "end_time": "2020-11-16T07:03:30.332224",
     "exception": false,
     "start_time": "2020-11-16T07:03:30.296236",
     "status": "completed"
    },
    "tags": []
   },
   "source": [
    "- Elde edilecek gelir 109746 birimdir.\n"
   ]
  },
  {
   "cell_type": "code",
   "execution_count": 18,
   "metadata": {
    "execution": {
     "iopub.execute_input": "2020-11-16T07:03:30.412544Z",
     "iopub.status.busy": "2020-11-16T07:03:30.411699Z",
     "iopub.status.idle": "2020-11-16T07:03:30.415695Z",
     "shell.execute_reply": "2020-11-16T07:03:30.415095Z"
    },
    "papermill": {
     "duration": 0.047134,
     "end_time": "2020-11-16T07:03:30.415823",
     "exception": false,
     "start_time": "2020-11-16T07:03:30.368689",
     "status": "completed"
    },
    "tags": []
   },
   "outputs": [
    {
     "data": {
      "text/plain": [
       "4257"
      ]
     },
     "execution_count": 18,
     "metadata": {},
     "output_type": "execute_result"
    }
   ],
   "source": [
    "#2. adım : 42 ve 44  birim arasında  satın almak isteyenlerden , elde edilecek gelirin hesaplanması\n",
    "\n",
    "\n",
    "frekans_2 = len(df.loc[(df.price >= 42) & (df.price < 44)])\n",
    "gelir = frekans_2 * 43\n",
    "gelir"
   ]
  },
  {
   "cell_type": "markdown",
   "metadata": {
    "papermill": {
     "duration": 0.035513,
     "end_time": "2020-11-16T07:03:30.487260",
     "exception": false,
     "start_time": "2020-11-16T07:03:30.451747",
     "status": "completed"
    },
    "tags": []
   },
   "source": [
    "- Elde edilecek gelir 4257 birimdir.\n"
   ]
  },
  {
   "cell_type": "code",
   "execution_count": 19,
   "metadata": {
    "execution": {
     "iopub.execute_input": "2020-11-16T07:03:30.566268Z",
     "iopub.status.busy": "2020-11-16T07:03:30.564606Z",
     "iopub.status.idle": "2020-11-16T07:03:30.570484Z",
     "shell.execute_reply": "2020-11-16T07:03:30.569857Z"
    },
    "papermill": {
     "duration": 0.047578,
     "end_time": "2020-11-16T07:03:30.570601",
     "exception": false,
     "start_time": "2020-11-16T07:03:30.523023",
     "status": "completed"
    },
    "tags": []
   },
   "outputs": [
    {
     "data": {
      "text/plain": [
       "32384"
      ]
     },
     "execution_count": 19,
     "metadata": {},
     "output_type": "execute_result"
    }
   ],
   "source": [
    "#3. adım :  44  birim ustunde  satın almak isteyenlerden , elde edilecek gelirin hesaplanması\n",
    "\n",
    "frekans_3 = len(df.loc[(df.price >= 44)])\n",
    "gelir = frekans_3 * 44\n",
    "gelir"
   ]
  },
  {
   "cell_type": "markdown",
   "metadata": {
    "papermill": {
     "duration": 0.03594,
     "end_time": "2020-11-16T07:03:30.642948",
     "exception": false,
     "start_time": "2020-11-16T07:03:30.607008",
     "status": "completed"
    },
    "tags": []
   },
   "source": [
    "- Elde edilecek gelir 32384 birimdir.\n"
   ]
  }
 ],
 "metadata": {
  "kernelspec": {
   "display_name": "Python 3",
   "language": "python",
   "name": "python3"
  },
  "language_info": {
   "codemirror_mode": {
    "name": "ipython",
    "version": 3
   },
   "file_extension": ".py",
   "mimetype": "text/x-python",
   "name": "python",
   "nbconvert_exporter": "python",
   "pygments_lexer": "ipython3",
   "version": "3.7.6"
  },
  "papermill": {
   "duration": 8.968492,
   "end_time": "2020-11-16T07:03:30.786690",
   "environment_variables": {},
   "exception": null,
   "input_path": "__notebook__.ipynb",
   "output_path": "__notebook__.ipynb",
   "parameters": {},
   "start_time": "2020-11-16T07:03:21.818198",
   "version": "2.1.0"
  }
 },
 "nbformat": 4,
 "nbformat_minor": 4
}
